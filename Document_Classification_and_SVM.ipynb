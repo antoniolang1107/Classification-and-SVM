{
 "cells": [
  {
   "cell_type": "markdown",
   "metadata": {},
   "source": [
    "# **Project 3 Report**\n",
    "\n",
    "Antonio Lang\n",
    "\n",
    "CS458"
   ]
  },
  {
   "cell_type": "markdown",
   "metadata": {},
   "source": [
    "P3-1. Text Documents Classification on 20 newsgroup dataset"
   ]
  },
  {
   "cell_type": "code",
   "execution_count": 10,
   "metadata": {},
   "outputs": [],
   "source": [
    "from sklearn.datasets import fetch_20newsgroups\n",
    "newsdata_train = fetch_20newsgroups(subset='train',categories=['rec.autos','talk.religion.misc','comp.graphics','sci.space'])\n",
    "newsdata_test = fetch_20newsgroups(subset='test',categories=['rec.autos','talk.religion.misc','comp.graphics','sci.space'])"
   ]
  },
  {
   "cell_type": "code",
   "execution_count": 16,
   "metadata": {},
   "outputs": [
    {
     "name": "stdout",
     "output_type": "stream",
     "text": [
      "SVM score: 0.9202797202797203\n",
      "Naive Bayes score: 0.9524475524475524\n",
      "K-Nearest Neighbors score: 0.6\n",
      "Random Forest score: 0.8867132867132868\n",
      "AdaBoost score: 0.7594405594405594\n"
     ]
    }
   ],
   "source": [
    "from sklearn.svm import LinearSVC\n",
    "from sklearn.naive_bayes import MultinomialNB\n",
    "from sklearn.neighbors import KNeighborsClassifier\n",
    "from sklearn import ensemble\n",
    "# from sklearn.pipeline import make_pipeline\n",
    "# from sklearn.preprocessing import StandardScaler\n",
    "# from sklearn.feature_extraction.text import TfidVectorizer\n",
    "from sklearn import metrics\n",
    "from sklearn.feature_extraction.text import CountVectorizer\n",
    "\n",
    "vectorizer = CountVectorizer()\n",
    "vector_train = vectorizer.fit_transform(newsdata_train.data)\n",
    "vector_test = vectorizer.transform(newsdata_test.data)\n",
    "x1 = vector_train\n",
    "y1 = newsdata_train.target\n",
    "x2 = vector_test\n",
    "y2 = newsdata_test.target\n",
    "\n",
    "models = []\n",
    "\n",
    "\n",
    "SVM = LinearSVC(random_state=0, tol=1e-5)\n",
    "models.append((SVM, 'SVM'))\n",
    "\n",
    "NB = MultinomialNB(alpha=0.01)\n",
    "models.append((NB, 'Naive Bayes'))\n",
    "\n",
    "KNN = KNeighborsClassifier(n_neighbors=20)\n",
    "models.append((KNN, 'K-Nearest Neighbors'))\n",
    "\n",
    "RF = ensemble.RandomForestClassifier(n_estimators=150)\n",
    "models.append((RF, 'Random Forest'))\n",
    "\n",
    "ada = ensemble.AdaBoostClassifier(n_estimators=50)\n",
    "models.append((ada, 'AdaBoost'))\n",
    "\n",
    "for model in models:\n",
    "    model[0].fit(x1,y1)\n",
    "    score = model[0].score(x2,y2)\n",
    "    print(f\"{model[1]} score: {score}\")"
   ]
  },
  {
   "cell_type": "markdown",
   "metadata": {},
   "source": [
    "P3-2. Recognizing Hand-Written Digits"
   ]
  },
  {
   "cell_type": "code",
   "execution_count": 7,
   "metadata": {},
   "outputs": [],
   "source": [
    "from sklearn import datasets\n",
    "digits = datasets.load_digits()"
   ]
  },
  {
   "cell_type": "code",
   "execution_count": null,
   "metadata": {},
   "outputs": [],
   "source": [
    "from sklearn.neural_network import MLPClassifier\n"
   ]
  },
  {
   "cell_type": "markdown",
   "metadata": {},
   "source": [
    "P3-3. Nonlinear Support Vector Machine"
   ]
  },
  {
   "cell_type": "code",
   "execution_count": null,
   "metadata": {},
   "outputs": [],
   "source": [
    "import numpy as np\n",
    "np.random.seed(0)\n",
    "X = np.random.rand(300,2)*10-5\n",
    "Y = np.logical_xor(X[:,0]>0,X[0:,1]>0)"
   ]
  }
 ],
 "metadata": {
  "kernelspec": {
   "display_name": "Python 3.9.7 ('base')",
   "language": "python",
   "name": "python3"
  },
  "language_info": {
   "codemirror_mode": {
    "name": "ipython",
    "version": 3
   },
   "file_extension": ".py",
   "mimetype": "text/x-python",
   "name": "python",
   "nbconvert_exporter": "python",
   "pygments_lexer": "ipython3",
   "version": "3.9.7"
  },
  "orig_nbformat": 4,
  "vscode": {
   "interpreter": {
    "hash": "490cca0d48158525b9c88105390f5103e6e85e51fefc4e895118a6b620f40cb6"
   }
  }
 },
 "nbformat": 4,
 "nbformat_minor": 2
}
