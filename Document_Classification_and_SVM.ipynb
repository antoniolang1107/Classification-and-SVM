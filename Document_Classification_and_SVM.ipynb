{
 "cells": [
  {
   "cell_type": "markdown",
   "metadata": {},
   "source": [
    "# **Project 3 Report**\n",
    "\n",
    "Antonio Lang\n",
    "\n",
    "CS458"
   ]
  },
  {
   "cell_type": "markdown",
   "metadata": {},
   "source": [
    "P3-1. Text Documents Classification on 20 newsgroup dataset"
   ]
  },
  {
   "cell_type": "code",
   "execution_count": null,
   "metadata": {},
   "outputs": [],
   "source": [
    "from sklearn.datasets import fetch_20newsgroups"
   ]
  },
  {
   "cell_type": "markdown",
   "metadata": {},
   "source": [
    "P3-2. Recognizing Hand-Written Digits"
   ]
  },
  {
   "cell_type": "code",
   "execution_count": null,
   "metadata": {},
   "outputs": [],
   "source": [
    "from sklearn import datasets\n",
    "digits = datasets.load_digits()"
   ]
  },
  {
   "cell_type": "markdown",
   "metadata": {},
   "source": [
    "P3-3. Nonlinear Support Vector Machine"
   ]
  },
  {
   "cell_type": "code",
   "execution_count": null,
   "metadata": {},
   "outputs": [],
   "source": [
    "import numpy as np\n",
    "np.random.seed(0)\n",
    "X = np.random.rand(300,2)*10-5\n",
    "Y = np.logical_xor(X[:,0]>0,X[0:,1]>0)"
   ]
  }
 ],
 "metadata": {
  "kernelspec": {
   "display_name": "Python 3.9.7 ('base')",
   "language": "python",
   "name": "python3"
  },
  "language_info": {
   "name": "python",
   "version": "3.9.7"
  },
  "orig_nbformat": 4,
  "vscode": {
   "interpreter": {
    "hash": "490cca0d48158525b9c88105390f5103e6e85e51fefc4e895118a6b620f40cb6"
   }
  }
 },
 "nbformat": 4,
 "nbformat_minor": 2
}
